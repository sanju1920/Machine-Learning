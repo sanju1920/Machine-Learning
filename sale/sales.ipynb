{
 "cells": [
  {
   "cell_type": "code",
   "execution_count": 1,
   "metadata": {
    "collapsed": true
   },
   "outputs": [],
   "source": [
    "import numpy as np\n",
    "import pandas as pd\n",
    "import matplotlib.pyplot as plt\n",
    "%matplotlib inline\n",
    "from sklearn.linear_model import LinearRegression"
   ]
  },
  {
   "cell_type": "code",
   "execution_count": 2,
   "metadata": {
    "collapsed": true
   },
   "outputs": [],
   "source": [
    "data = pd.read_csv('train.csv')"
   ]
  },
  {
   "cell_type": "code",
   "execution_count": 3,
   "metadata": {},
   "outputs": [
    {
     "data": {
      "text/html": [
       "<div>\n",
       "<style>\n",
       "    .dataframe thead tr:only-child th {\n",
       "        text-align: right;\n",
       "    }\n",
       "\n",
       "    .dataframe thead th {\n",
       "        text-align: left;\n",
       "    }\n",
       "\n",
       "    .dataframe tbody tr th {\n",
       "        vertical-align: top;\n",
       "    }\n",
       "</style>\n",
       "<table border=\"1\" class=\"dataframe\">\n",
       "  <thead>\n",
       "    <tr style=\"text-align: right;\">\n",
       "      <th></th>\n",
       "      <th>outlet_no</th>\n",
       "      <th>business_type</th>\n",
       "      <th>city</th>\n",
       "      <th>state</th>\n",
       "      <th>zip</th>\n",
       "      <th>store_location</th>\n",
       "      <th>avg_age</th>\n",
       "      <th>blue_collar</th>\n",
       "      <th>white_collar</th>\n",
       "      <th>female</th>\n",
       "      <th>...</th>\n",
       "      <th>total_household_income</th>\n",
       "      <th>time_zone</th>\n",
       "      <th>latitude</th>\n",
       "      <th>longitude</th>\n",
       "      <th>location_employee_code</th>\n",
       "      <th>employee_size</th>\n",
       "      <th>credit_score</th>\n",
       "      <th>credit_score_range</th>\n",
       "      <th>actual_credit_score</th>\n",
       "      <th>total_sales</th>\n",
       "    </tr>\n",
       "  </thead>\n",
       "  <tbody>\n",
       "    <tr>\n",
       "      <th>0</th>\n",
       "      <td>247</td>\n",
       "      <td>1</td>\n",
       "      <td>LIMA</td>\n",
       "      <td>OH</td>\n",
       "      <td>45804</td>\n",
       "      <td>TRAVEL/TRANSPORTATION/HOSPITALITY</td>\n",
       "      <td>44.01</td>\n",
       "      <td>43.68</td>\n",
       "      <td>35.41</td>\n",
       "      <td>53.37</td>\n",
       "      <td>...</td>\n",
       "      <td>63860000</td>\n",
       "      <td>EST</td>\n",
       "      <td>40.704283</td>\n",
       "      <td>-84.147047</td>\n",
       "      <td>E</td>\n",
       "      <td>70</td>\n",
       "      <td>B</td>\n",
       "      <td>80 TO 84</td>\n",
       "      <td>80</td>\n",
       "      <td>4070</td>\n",
       "    </tr>\n",
       "    <tr>\n",
       "      <th>1</th>\n",
       "      <td>253</td>\n",
       "      <td>4</td>\n",
       "      <td>VACAVILLE</td>\n",
       "      <td>CA</td>\n",
       "      <td>95687</td>\n",
       "      <td>AT-WORK</td>\n",
       "      <td>38.36</td>\n",
       "      <td>41.31</td>\n",
       "      <td>26.48</td>\n",
       "      <td>54.00</td>\n",
       "      <td>...</td>\n",
       "      <td>92764000</td>\n",
       "      <td>PST</td>\n",
       "      <td>38.354860</td>\n",
       "      <td>-121.950360</td>\n",
       "      <td>D</td>\n",
       "      <td>35</td>\n",
       "      <td>A</td>\n",
       "      <td>90 TO 94</td>\n",
       "      <td>91</td>\n",
       "      <td>4323</td>\n",
       "    </tr>\n",
       "    <tr>\n",
       "      <th>2</th>\n",
       "      <td>265</td>\n",
       "      <td>4</td>\n",
       "      <td>CINCINNATI</td>\n",
       "      <td>OH</td>\n",
       "      <td>45219</td>\n",
       "      <td>EDUCATIONAL</td>\n",
       "      <td>28.81</td>\n",
       "      <td>17.22</td>\n",
       "      <td>43.06</td>\n",
       "      <td>45.56</td>\n",
       "      <td>...</td>\n",
       "      <td>51027000</td>\n",
       "      <td>EST</td>\n",
       "      <td>39.136100</td>\n",
       "      <td>-84.504288</td>\n",
       "      <td>C</td>\n",
       "      <td>13</td>\n",
       "      <td>A+</td>\n",
       "      <td>95 TO 100</td>\n",
       "      <td>97</td>\n",
       "      <td>2163</td>\n",
       "    </tr>\n",
       "    <tr>\n",
       "      <th>3</th>\n",
       "      <td>267</td>\n",
       "      <td>1</td>\n",
       "      <td>GLASGOW</td>\n",
       "      <td>KY</td>\n",
       "      <td>42141</td>\n",
       "      <td>AT-WORK</td>\n",
       "      <td>42.89</td>\n",
       "      <td>38.49</td>\n",
       "      <td>44.00</td>\n",
       "      <td>52.41</td>\n",
       "      <td>...</td>\n",
       "      <td>47119000</td>\n",
       "      <td>CST</td>\n",
       "      <td>37.010838</td>\n",
       "      <td>-85.903418</td>\n",
       "      <td>A</td>\n",
       "      <td>3</td>\n",
       "      <td>B+</td>\n",
       "      <td>85 TO 89</td>\n",
       "      <td>86</td>\n",
       "      <td>528</td>\n",
       "    </tr>\n",
       "    <tr>\n",
       "      <th>4</th>\n",
       "      <td>276</td>\n",
       "      <td>1</td>\n",
       "      <td>BOWLING GREEN</td>\n",
       "      <td>KY</td>\n",
       "      <td>42101</td>\n",
       "      <td>EATING &amp; DRINKING</td>\n",
       "      <td>38.82</td>\n",
       "      <td>60.82</td>\n",
       "      <td>26.24</td>\n",
       "      <td>54.18</td>\n",
       "      <td>...</td>\n",
       "      <td>47941000</td>\n",
       "      <td>CST</td>\n",
       "      <td>36.964703</td>\n",
       "      <td>-86.436535</td>\n",
       "      <td>A</td>\n",
       "      <td>3</td>\n",
       "      <td>P</td>\n",
       "      <td>PROFESSIONAL INDIVIDUAL</td>\n",
       "      <td>78</td>\n",
       "      <td>528</td>\n",
       "    </tr>\n",
       "  </tbody>\n",
       "</table>\n",
       "<p>5 rows × 22 columns</p>\n",
       "</div>"
      ],
      "text/plain": [
       "   outlet_no  business_type           city state    zip  \\\n",
       "0        247              1           LIMA    OH  45804   \n",
       "1        253              4      VACAVILLE    CA  95687   \n",
       "2        265              4     CINCINNATI    OH  45219   \n",
       "3        267              1        GLASGOW    KY  42141   \n",
       "4        276              1  BOWLING GREEN    KY  42101   \n",
       "\n",
       "                      store_location  avg_age  blue_collar  white_collar  \\\n",
       "0  TRAVEL/TRANSPORTATION/HOSPITALITY    44.01        43.68         35.41   \n",
       "1                            AT-WORK    38.36        41.31         26.48   \n",
       "2                        EDUCATIONAL    28.81        17.22         43.06   \n",
       "3                            AT-WORK    42.89        38.49         44.00   \n",
       "4                  EATING & DRINKING    38.82        60.82         26.24   \n",
       "\n",
       "   female     ...      total_household_income  time_zone   latitude  \\\n",
       "0   53.37     ...                    63860000        EST  40.704283   \n",
       "1   54.00     ...                    92764000        PST  38.354860   \n",
       "2   45.56     ...                    51027000        EST  39.136100   \n",
       "3   52.41     ...                    47119000        CST  37.010838   \n",
       "4   54.18     ...                    47941000        CST  36.964703   \n",
       "\n",
       "    longitude  location_employee_code  employee_size credit_score  \\\n",
       "0  -84.147047                       E             70            B   \n",
       "1 -121.950360                       D             35            A   \n",
       "2  -84.504288                       C             13           A+   \n",
       "3  -85.903418                       A              3           B+   \n",
       "4  -86.436535                       A              3            P   \n",
       "\n",
       "        credit_score_range actual_credit_score total_sales  \n",
       "0                 80 TO 84                  80        4070  \n",
       "1                 90 TO 94                  91        4323  \n",
       "2                95 TO 100                  97        2163  \n",
       "3                 85 TO 89                  86         528  \n",
       "4  PROFESSIONAL INDIVIDUAL                  78         528  \n",
       "\n",
       "[5 rows x 22 columns]"
      ]
     },
     "execution_count": 3,
     "metadata": {},
     "output_type": "execute_result"
    }
   ],
   "source": [
    "data.head(5)"
   ]
  },
  {
   "cell_type": "code",
   "execution_count": null,
   "metadata": {
    "collapsed": true
   },
   "outputs": [],
   "source": []
  },
  {
   "cell_type": "code",
   "execution_count": 4,
   "metadata": {},
   "outputs": [
    {
     "data": {
      "text/plain": [
       "array(['80 TO 84', '90 TO 94', '95 TO 100', '85 TO 89',\n",
       "       'PROFESSIONAL INDIVIDUAL', '75 TO 79', 'INSTITUTION', '70 TO 74',\n",
       "       'LESS THAN 70'], dtype=object)"
      ]
     },
     "execution_count": 4,
     "metadata": {},
     "output_type": "execute_result"
    }
   ],
   "source": [
    "data['credit_score_range'].unique()"
   ]
  },
  {
   "cell_type": "code",
   "execution_count": 5,
   "metadata": {
    "collapsed": true
   },
   "outputs": [],
   "source": [
    "city =['LIMA', 'VACAVILLE', 'CINCINNATI', 'GLASGOW', 'BOWLING GREEN',\n",
    "       'LANCASTER', 'HOUSTON', 'SPRINGFIELD', 'RAPID CITY', 'FORT WORTH',\n",
    "       'LAREDO', 'NEW YORK', 'CHARLESTON', 'PITTSBURGH',\n",
    "       'WEST VALLEY CITY', 'CAYCE', 'HOT SPRINGS NATIO', 'CANTON',\n",
    "       'FORT WAYNE', 'DU BOIS', 'DAYTON', 'MASON CITY', 'WASHINGTON',\n",
    "       'LAKE OSWEGO', 'FAYETTEVILLE', 'SALT LAKE CITY', 'KNOXVILLE',\n",
    "       'TURLOCK', 'MCALLEN', 'CENTERVILLE', 'ROCHESTER', 'OKLAHOMA CITY',\n",
    "       'GAUTIER', 'DOYLESTOWN', 'ATLANTA', 'MEADVILLE', 'FORT MYERS',\n",
    "       'ERIE', 'BEAUMONT', 'JACKSON', 'CLARKSVILLE', 'BETHLEHEM',\n",
    "       'SAN ANTONIO', 'LAS VEGAS', 'ATHENS', 'SAN LUIS OBISPO', 'SEATTLE',\n",
    "       'BRADENTON', 'TINLEY PARK', 'HUNTLEY', 'SYRACUSE', 'WHEELWRIGHT',\n",
    "       'TOWSON', 'YONKERS', 'ARDEN HILLS', 'MARION', 'LIVONIA',\n",
    "       'COLORADO SPRINGS', 'CURWENSVILLE', 'SAINT CHARLES', 'PETERSBURG',\n",
    "       'SCOTTSDALE', 'SILVER SPRING', 'PORTLAND', 'BIRMINGHAM',\n",
    "       'CEDARVILLE', 'CLERMONT', 'ASHEVILLE', 'SHREVEPORT', 'DRAPER',\n",
    "       'WAVERLY', 'CANANDAIGUA', 'MOUNT PLEASANT', 'MARIETTA', 'MANKATO',\n",
    "       'HARLINGEN', 'HATCH', 'MOBILE', 'POULSBO', 'GARDEN GROVE',\n",
    "       'GIG HARBOR', 'OCONOMOWOC', 'MOUNT MORRIS', 'ORLANDO', 'DODGE CITY',\n",
    "       'DILLSBURG', 'HUNTSVILLE', 'KANSAS CITY', 'JACKSONVILLE', 'DULUTH',\n",
    "       'CITRUS HEIGHTS', 'ONEONTA', 'LOS LUNAS', 'GIBSONIA', 'ROBINSON',\n",
    "       'VERNON HILLS', 'PHOENIX', 'DESTIN', 'SHEPHERD', 'BROOKLYN',\n",
    "       'PLANO', 'WINTERS', 'JAMAICA', 'POWAY', 'LEXINGTON', 'UPLAND',\n",
    "       'NEW ALBANY', 'GREENVILLE', 'JEFFERSON CITY', 'ARLINGTON',\n",
    "       'BUFFALO', 'LOS ANGELES', 'CHARLOTTE', 'WEST LAFAYETTE', 'GARY',\n",
    "       'COOPERSTOWN', 'GREAT BEND', 'DAVISON', 'SMYRNA', 'MISSOURI CITY',\n",
    "       'MEMPHIS', 'FORT WALTON BEACH', 'KISSIMMEE', 'BATAVIA', 'OLDSMAR',\n",
    "       'WYNNE', 'ASHVILLE', 'FT BRAGG', 'TROY', 'SHAKER HTS',\n",
    "       'CLEVELAND HTS', 'HAMBURG','CORBIN','WILLIAMSPORT','RUSK','ALBANY','BRAWLEY','SCOTTSVILLE', 'GLENDALE', 'MADISONVILLE','JERSEY SHORE',   'FAIRMONT', 'ALICE', 'KINGSPORT', 'WASHINGTON COURT', \n",
    "       'BURIEN', 'LAKE PLACID', \n",
    "       'FLINT',  'CLEVELAND',  'TARZANA',  'ELIZABETHTON', \n",
    "       'RUSSELLVILLE',  'GRAND BLANC', 'GOLD BEACH', 'YEADON', \n",
    "       'REDFORD',  'DURANT', 'WEST LAFAYETT', \n",
    "        'SAINT PAUL', 'MORAINE','HIGHLANDS RANCH',\n",
    "       'DALLAS', 'TOPTON']"
   ]
  },
  {
   "cell_type": "code",
   "execution_count": 6,
   "metadata": {
    "collapsed": true
   },
   "outputs": [],
   "source": [
    "state =['OH', 'CA', 'KY', 'TX', 'IL', 'SD', 'NY', 'SC', 'PA', 'UT', 'AR',\n",
    "       'MS', 'IN', 'IA', 'OR', 'NC', 'TN', 'MN', 'OK', 'GA', 'FL', 'NV',\n",
    "       'WA', 'MD', 'MI', 'CO', 'MO', 'WV', 'AZ', 'AL', 'LA', 'NM', 'WI',\n",
    "       'KS', 'WY','EST', 'PST', 'CST', 'MST','E', 'D', 'C', 'A', 'B', 'G', 'H', 'F', 'I', 'J', 'K','B', 'A', 'A+', 'B+', 'P', 'C+', 'I', 'C', 'U']"
   ]
  },
  {
   "cell_type": "code",
   "execution_count": 7,
   "metadata": {
    "collapsed": true
   },
   "outputs": [],
   "source": [
    "loc =['TRAVEL/TRANSPORTATION/HOSPITALITY', 'AT-WORK', 'EDUCATIONAL',\n",
    "       'EATING & DRINKING', 'THIRD PARTY (NON-CONSUMER)',\n",
    "       'OTHER SHOPPING & SERVICES', 'ENTERTAINMENT/RECREATION/LEISURE',\n",
    "       'GROCERY SHOPPING']"
   ]
  },
  {
   "cell_type": "code",
   "execution_count": 8,
   "metadata": {
    "collapsed": true
   },
   "outputs": [],
   "source": [
    "score =['80 TO 84', '85 TO 89','90 TO 94', '95 TO 100', '85 TO 89',\n",
    "       'PROFESSIONAL INDIVIDUAL', '75 TO 79', 'INSTITUTION', '70 TO 74',\n",
    "       'LESS THAN 70']"
   ]
  },
  {
   "cell_type": "code",
   "execution_count": 9,
   "metadata": {},
   "outputs": [
    {
     "data": {
      "text/plain": [
       "240"
      ]
     },
     "execution_count": 9,
     "metadata": {},
     "output_type": "execute_result"
    }
   ],
   "source": [
    "l = city+state+loc+score\n",
    "len(l)"
   ]
  },
  {
   "cell_type": "code",
   "execution_count": 10,
   "metadata": {
    "collapsed": true
   },
   "outputs": [],
   "source": [
    "a = range(0,240)"
   ]
  },
  {
   "cell_type": "code",
   "execution_count": 11,
   "metadata": {
    "collapsed": true
   },
   "outputs": [],
   "source": [
    "data =data.replace(l,a)"
   ]
  },
  {
   "cell_type": "code",
   "execution_count": 12,
   "metadata": {
    "collapsed": true
   },
   "outputs": [],
   "source": [
    "x = data[['outlet_no', 'business_type', 'city', 'state', 'zip', 'store_location',\n",
    "       'avg_age', 'blue_collar', 'white_collar', 'female', 'male',\n",
    "       'total_household_size ', 'total_household_income', 'time_zone',\n",
    "       'latitude', 'longitude', 'location_employee_code', 'employee_size',\n",
    "       'credit_score', 'credit_score_range', 'actual_credit_score'\n",
    "       ]]\n",
    "y = data['total_sales']"
   ]
  },
  {
   "cell_type": "code",
   "execution_count": 13,
   "metadata": {},
   "outputs": [
    {
     "data": {
      "image/png": "[encoded data removed]",
      "text/plain": [
       "<matplotlib.figure.Figure at 0x26f8273c630>"
      ]
     },
     "metadata": {},
     "output_type": "display_data"
    }
   ],
   "source": [
    "plt.plot(x,y,ls='--')\n",
    "plt.show()"
   ]
  },
  {
   "cell_type": "code",
   "execution_count": 19,
   "metadata": {},
   "outputs": [
    {
     "data": {
      "text/plain": [
       "LinearRegression(copy_X=True, fit_intercept=True, n_jobs=1, normalize=False)"
      ]
     },
     "execution_count": 19,
     "metadata": {},
     "output_type": "execute_result"
    }
   ],
   "source": [
    "kn = LinearRegression()\n",
    "kn.fit(x,y)"
   ]
  },
  {
   "cell_type": "code",
   "execution_count": 20,
   "metadata": {
    "collapsed": true
   },
   "outputs": [],
   "source": [
    "test =pd.read_csv('test.csv')"
   ]
  },
  {
   "cell_type": "code",
   "execution_count": 21,
   "metadata": {
    "collapsed": true
   },
   "outputs": [],
   "source": [
    "test = test.replace(l,a)"
   ]
  },
  {
   "cell_type": "code",
   "execution_count": 22,
   "metadata": {},
   "outputs": [],
   "source": [
    "ytest =kn.predict(test)"
   ]
  },
  {
   "cell_type": "code",
   "execution_count": 23,
   "metadata": {},
   "outputs": [
    {
     "data": {
      "text/plain": [
       "array([  9.06467950e+03,   5.96087197e+03,   3.58917334e+03,\n",
       "         4.64006306e+03,   4.47533808e+03,  -5.77808403e+03,\n",
       "        -2.63722380e+03,   2.84414459e+03,   3.03441862e+03,\n",
       "         3.10913512e+03,   1.26736272e+03,   1.13311264e+04,\n",
       "         5.99480031e+02,   1.40318384e+04,   2.83526392e+03,\n",
       "         7.27705141e+03,   8.94730649e+03,  -1.60051097e+03,\n",
       "        -2.34246174e+03,   1.53889643e+04,   1.21918815e+04,\n",
       "         2.64989476e+03,   1.35114129e+04,   2.47461427e+03,\n",
       "         5.72939405e+03,   1.29901076e+04,   3.97670608e+03,\n",
       "         1.16309557e+04,  -2.09833124e+03,   1.77204144e+03,\n",
       "         7.79742981e+03,   3.34119083e+03,   9.10119038e+04,\n",
       "         5.94103445e+03,   1.40188511e+04,   1.66483925e+04,\n",
       "        -8.26405120e+03,   1.58658583e+04,   1.55302744e+04,\n",
       "         1.95778791e+04,   6.35979560e+03,   2.23165117e+04,\n",
       "         1.66513017e+03,   7.70215891e+03,   9.28917651e+03,\n",
       "         2.27182416e+04,   1.50442756e+03,   4.81731927e+03,\n",
       "         1.01849270e+04,   3.81277513e+03,   1.30173760e+05,\n",
       "         2.02953622e+04,  -3.40603461e+02,   1.01984904e+04,\n",
       "         1.51526235e+03,  -5.26577777e+03,  -1.82646085e+03,\n",
       "         1.98125126e+04,   8.57197846e+03,   5.55753983e+03,\n",
       "         2.13490348e+03,   1.64886452e+04,   3.86179777e+04,\n",
       "         1.62225192e+04,   8.21605191e+03,   1.36112638e+04,\n",
       "         1.25032075e+04,  -1.81731890e+03,   2.11510503e+04,\n",
       "         1.40716197e+04,   8.87279449e+03,   1.04871679e+04,\n",
       "         1.67353507e+04,   6.01443711e+03,   1.83056333e+04,\n",
       "         1.53255732e+04,   2.99232221e+03,   3.81221236e+04,\n",
       "         1.20655935e+04,   3.02370094e+04,   3.99570813e+03,\n",
       "         7.38137502e+03,   1.59374334e+04,   1.04050072e+04,\n",
       "         2.06131319e+04,   1.14887148e+04,   6.22860976e+04,\n",
       "        -1.70636278e+03,   1.60913556e+03,   2.01928540e+04,\n",
       "         1.81933664e+04,   7.80166749e+03,  -1.81338656e+03,\n",
       "         8.68926178e+03,  -2.61481880e+03,   1.99825821e+04,\n",
       "         9.03135771e+03,   4.06125181e+03,   5.61912581e+03,\n",
       "         6.43831242e+03,   1.33215040e+04,  -5.47463706e+03,\n",
       "         1.30431686e+04,   1.74421515e+03,   9.26064736e+03,\n",
       "         2.52857986e+03,   1.06954112e+04,   1.52331561e+05,\n",
       "         6.13678427e+03,   1.93922812e+05,   1.50028193e+04,\n",
       "         7.36420119e+03,   9.69872154e+03,   1.67757054e+04,\n",
       "         1.29084666e+04,   1.67270683e+04,   9.16664885e+03,\n",
       "        -1.47373429e+03,   7.97862514e+05,   3.93938740e+03,\n",
       "        -1.11361505e+04,   3.06197741e+03,   7.38841565e+03,\n",
       "         1.11849441e+04,   1.83203386e+04,   5.27247157e+03,\n",
       "        -4.24172177e+02,  -6.36690176e+02,   7.05048111e+03,\n",
       "         8.97017045e+03,   1.97226669e+04,   9.09307611e+03,\n",
       "         8.68700713e+03,   4.13750475e+03,   4.62044405e+03,\n",
       "         3.05894832e+03,   4.37191150e+03,   4.98494046e+03,\n",
       "         3.27738101e+03,   7.88393159e+03,  -5.27147149e+02,\n",
       "         5.89871850e+03,   9.14985283e+03,   4.51268032e+03,\n",
       "         2.28843657e+03,   7.04422623e+03,   1.06637100e+04,\n",
       "         4.96232089e+03,   1.55424399e+04,   1.08986930e+04,\n",
       "         7.06245247e+03,   3.48109820e+03,   1.41303786e+04,\n",
       "        -5.63054398e+02,   2.20183768e+04,   1.34033163e+04,\n",
       "         7.02721869e+03,   1.46941584e+04,  -2.16084523e+03,\n",
       "         5.61502410e+03,   1.08449915e+04,   9.36193571e+03,\n",
       "         1.30071096e+04,   1.68504561e+04,   1.66022365e+04,\n",
       "         8.04116901e+03,   1.60123349e+03,   1.56831436e+04,\n",
       "         1.74759685e+04,   1.42009670e+04,   7.46683447e+03,\n",
       "         1.34800066e+03,   2.93701664e+03,   2.86337159e+04,\n",
       "         2.08619043e+04,   1.49505346e+04,   2.16520969e+04,\n",
       "        -1.15142495e+04,   1.04654299e+04,   5.57021450e+03,\n",
       "         2.47814887e+04,   3.49310234e+04,   2.12898391e+04,\n",
       "         8.24526965e+03,   1.46902638e+04,   9.15171679e+03,\n",
       "         6.26016246e+03,  -8.08649000e+02,   2.49168317e+04,\n",
       "         1.00818725e+04,   1.00882370e+04,   1.69627034e+05,\n",
       "         1.37736388e+04,   8.51415376e+03,   1.82467601e+04,\n",
       "         1.34188141e+04,   1.35323617e+04,  -1.53103240e+03,\n",
       "         1.87380282e+04,   5.82576065e+04,   1.18264195e+04,\n",
       "         3.32890477e+03,   1.31812776e+04,   2.49977884e+04,\n",
       "         1.02456845e+04,   1.24004144e+04,   1.40917265e+04,\n",
       "         1.03506392e+04,   4.64310751e+03,   9.42690391e+03,\n",
       "         1.70100526e+04,   5.49352263e+04,   4.98005207e+04,\n",
       "         1.46146836e+04,  -1.89245449e+03,  -2.02726544e+03,\n",
       "         1.04147875e+05,   8.91254163e+03,   9.12617110e+03,\n",
       "         2.76347877e+03,   8.96241947e+03,   7.40366233e+03,\n",
       "         2.12638887e+04,   1.63432875e+04,   2.83502853e+03,\n",
       "         5.43942842e+03,   1.20284654e+04,   4.66311210e+03,\n",
       "         2.13834895e+04,   1.94110866e+04,   6.73030383e+03,\n",
       "         3.91806931e+03,   2.15546987e+04,   1.57599569e+04,\n",
       "         4.77832143e+03,   6.03108676e+02,   1.33918750e+04,\n",
       "         1.33279816e+04,   1.00203069e+04,   1.69253924e+04,\n",
       "         7.42462554e+03,   9.50055069e+03,   6.25711936e+03,\n",
       "         6.96142730e+03,   8.27759618e+03,   1.77226165e+04,\n",
       "         1.27436743e+05,   4.74441015e+03,   1.25899768e+04,\n",
       "        -2.42966362e+03,   8.85388390e+04,   2.59766062e+04,\n",
       "        -7.78813497e+03,   3.89839249e+03,   1.37841374e+04])"
      ]
     },
     "execution_count": 23,
     "metadata": {},
     "output_type": "execute_result"
    }
   ],
   "source": [
    "ytest"
   ]
  },
  {
   "cell_type": "code",
   "execution_count": null,
   "metadata": {
    "collapsed": true
   },
   "outputs": [],
   "source": []
  },
  {
   "cell_type": "code",
   "execution_count": null,
   "metadata": {
    "collapsed": true
   },
   "outputs": [],
   "source": []
  }
 ],
 "metadata": {
  "kernelspec": {
   "display_name": "Python 3",
   "language": "python",
   "name": "python3"
  },
  "language_info": {
   "codemirror_mode": {
    "name": "ipython",
    "version": 3
   },
   "file_extension": ".py",
   "mimetype": "text/x-python",
   "name": "python",
   "nbconvert_exporter": "python",
   "pygments_lexer": "ipython3",
   "version": "3.6.3"
  }
 },
 "nbformat": 4,
 "nbformat_minor": 2
}
